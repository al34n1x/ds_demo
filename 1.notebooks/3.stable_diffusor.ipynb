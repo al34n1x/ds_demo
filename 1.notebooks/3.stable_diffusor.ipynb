{
  "nbformat": 4,
  "nbformat_minor": 0,
  "metadata": {
    "colab": {
      "provenance": [],
      "gpuType": "T4",
      "authorship_tag": "ABX9TyMItg1YgEG5h9qWbXjyihZd",
      "include_colab_link": true
    },
    "kernelspec": {
      "name": "python3",
      "display_name": "Python 3"
    },
    "language_info": {
      "name": "python"
    },
    "accelerator": "GPU",
    "gpuClass": "standard"
  },
  "cells": [
    {
      "cell_type": "markdown",
      "metadata": {
        "id": "view-in-github",
        "colab_type": "text"
      },
      "source": [
        "<a href=\"https://colab.research.google.com/github/al34n1x/ds_demo/blob/main/1.notebooks/3.stable_diffusor.ipynb\" target=\"_parent\"><img src=\"https://colab.research.google.com/assets/colab-badge.svg\" alt=\"Open In Colab\"/></a>"
      ]
    },
    {
      "cell_type": "code",
      "source": [
        "!pip install diffusers==0.11.1\n",
        "!pip install transformers scipy ftfy accelerate"
      ],
      "metadata": {
        "id": "rjRhdq9HW2m3"
      },
      "execution_count": null,
      "outputs": []
    },
    {
      "cell_type": "code",
      "execution_count": null,
      "metadata": {
        "id": "H7V_eym-WXMM"
      },
      "outputs": [],
      "source": [
        "import PIL\n",
        "import requests\n",
        "import torch\n",
        "from io import BytesIO\n",
        "from diffusers import StableDiffusionPipeline"
      ]
    },
    {
      "cell_type": "code",
      "source": [
        "DEVICE='cuda'"
      ],
      "metadata": {
        "id": "uoimSngXWbcZ"
      },
      "execution_count": null,
      "outputs": []
    },
    {
      "cell_type": "code",
      "source": [
        "model_id = \"runwayml/stable-diffusion-v1-5\"\n",
        "pipe = StableDiffusionPipeline.from_pretrained(\"runwayml/stable-diffusion-v1-5\").to(DEVICE)\n",
        "\n",
        "prompt = \"Fluffy bear with a suit working at office\"\n",
        "image = pipe(prompt).images[0]  \n",
        "image"
      ],
      "metadata": {
        "id": "zV2eX_qGWgch"
      },
      "execution_count": null,
      "outputs": []
    }
  ]
}