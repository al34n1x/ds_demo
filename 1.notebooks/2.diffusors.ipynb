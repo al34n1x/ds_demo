{
  "nbformat": 4,
  "nbformat_minor": 0,
  "metadata": {
    "colab": {
      "provenance": [],
      "gpuType": "T4",
      "authorship_tag": "ABX9TyMQFQCeJmXf5V9thLofxfUp",
      "include_colab_link": true
    },
    "kernelspec": {
      "name": "python3",
      "display_name": "Python 3"
    },
    "language_info": {
      "name": "python"
    },
    "accelerator": "GPU",
    "gpuClass": "standard"
  },
  "cells": [
    {
      "cell_type": "markdown",
      "metadata": {
        "id": "view-in-github",
        "colab_type": "text"
      },
      "source": [
        "<a href=\"https://colab.research.google.com/github/al34n1x/ds_demo/blob/main/1.notebooks/2.diffusors.ipynb\" target=\"_parent\"><img src=\"https://colab.research.google.com/assets/colab-badge.svg\" alt=\"Open In Colab\"/></a>"
      ]
    },
    {
      "cell_type": "code",
      "source": [
        "!pip install diffusers==0.11.1"
      ],
      "metadata": {
        "id": "H9AH_8o2R0AU"
      },
      "execution_count": null,
      "outputs": []
    },
    {
      "cell_type": "code",
      "execution_count": null,
      "metadata": {
        "id": "p-D8iqHjRnDQ"
      },
      "outputs": [],
      "source": [
        "from diffusers import DDPMPipeline"
      ]
    },
    {
      "cell_type": "code",
      "source": [
        "image_pipe = DDPMPipeline.from_pretrained(\"google/ddpm-celebahq-256\")\n",
        "image_pipe.to(\"cuda\")"
      ],
      "metadata": {
        "id": "NBPDuw6xRo70"
      },
      "execution_count": null,
      "outputs": []
    },
    {
      "cell_type": "code",
      "source": [
        "images = image_pipe().images\n",
        "images[0]"
      ],
      "metadata": {
        "id": "UG8EyejYRq9I"
      },
      "execution_count": null,
      "outputs": []
    }
  ]
}