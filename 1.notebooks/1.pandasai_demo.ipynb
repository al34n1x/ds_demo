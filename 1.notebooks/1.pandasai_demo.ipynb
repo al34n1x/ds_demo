{
  "nbformat": 4,
  "nbformat_minor": 0,
  "metadata": {
    "colab": {
      "provenance": [],
      "include_colab_link": true
    },
    "kernelspec": {
      "name": "python3",
      "display_name": "Python 3"
    }
  },
  "cells": [
    {
      "cell_type": "markdown",
      "metadata": {
        "id": "view-in-github",
        "colab_type": "text"
      },
      "source": [
        "<a href=\"https://colab.research.google.com/github/al34n1x/ds_demo/blob/main/1.notebooks/1.pandasai_demo.ipynb\" target=\"_parent\"><img src=\"https://colab.research.google.com/assets/colab-badge.svg\" alt=\"Open In Colab\"/></a>"
      ]
    },
    {
      "cell_type": "markdown",
      "metadata": {
        "id": "nelHfwuqPmDH"
      },
      "source": [
        "# PandasAI Demo\n",
        "\n",
        "El objetivo del siguiente demo es poder introducir a los candidatos en el mundo de la ciencia de datos.\n",
        "Para ello utilizaremos librerías de `Python` ampliamente reconocidas e implementadas por analistas y científicos de datos.\n",
        "A su vez, crearemos una interface con OpenAI para poder realizar consultar sobre los datos que vayamos a explorar.\n",
        "\n",
        "\n"
      ]
    },
    {
      "cell_type": "code",
      "metadata": {
        "id": "L_fK_SIpPZa1"
      },
      "source": [
        "import pandas as pd\n",
        "import os\n",
        "file = os.path.join('https://raw.githubusercontent.com/al34n1x/ds_demo/main/2.data/imdb_movies.csv') #Define el path al archivo\n",
        "df = pd.read_csv(file)\n",
        "df['genre'] = df['genre'].str.split(',').str[0] # Lo usamos para quedarnos con solo un género\n",
        "df['crew'] = df['crew'].str.split(',').str[0] # Lo usamos para quedarnos con solo un género\n",
        "df"
      ],
      "execution_count": null,
      "outputs": []
    },
    {
      "cell_type": "markdown",
      "source": [
        "# Showtime!\n",
        "\n",
        "![](https://www.muraldecal.com/en/img/asmu272-jpg/folder/products-listado-merchant/stickers-rock-and-roll-homer-.jpg)"
      ],
      "metadata": {
        "id": "VlQ07sk_FMhU"
      }
    },
    {
      "cell_type": "code",
      "source": [
        "!pip install --upgrade pandas pandasai"
      ],
      "metadata": {
        "id": "HQ_46TO6Dcym"
      },
      "execution_count": null,
      "outputs": []
    },
    {
      "cell_type": "code",
      "source": [
        "from pandasai import PandasAI\n",
        "from pandasai.llm.openai import OpenAI\n",
        "OPENAI_API_KEY = \"\"\n",
        "llm = OpenAI(api_token=OPENAI_API_KEY)"
      ],
      "metadata": {
        "id": "EO_wjTOyDixC"
      },
      "execution_count": null,
      "outputs": []
    },
    {
      "cell_type": "code",
      "source": [
        "pandas_ai = PandasAI(llm)\n",
        "pandas_ai.run(df, prompt='Cuantas películas realizó Sean Connery?')"
      ],
      "metadata": {
        "id": "NMxLRkTXD1Dj"
      },
      "execution_count": null,
      "outputs": []
    },
    {
      "cell_type": "code",
      "source": [
        "pandas_ai.run(df, prompt='Cuantas películas de acción se realizaron entre el año 2005 y 2008')"
      ],
      "metadata": {
        "id": "G6XssZ7nwQXC"
      },
      "execution_count": null,
      "outputs": []
    },
    {
      "cell_type": "code",
      "source": [
        "pandas_ai.run(df, 'Plot a bar chart with the top 10 actors with more movies, with different colours')"
      ],
      "metadata": {
        "id": "D0o7bq9uhVs5"
      },
      "execution_count": null,
      "outputs": []
    }
  ]
}